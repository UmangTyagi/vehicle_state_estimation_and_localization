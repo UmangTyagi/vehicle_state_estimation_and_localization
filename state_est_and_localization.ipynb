{
 "cells": [
  {
   "cell_type": "code",
   "execution_count": 1,
   "id": "6d00f52a",
   "metadata": {},
   "outputs": [],
   "source": [
    "import numpy as np\n",
    "import matplotlib.pyplot as plt"
   ]
  },
  {
   "cell_type": "code",
   "execution_count": 4,
   "id": "63a1a8ff",
   "metadata": {},
   "outputs": [],
   "source": [
    "#sensor data\n",
    "#Imu sensor data\n",
    "a_k_1 = np.identity(3)\n",
    "\n",
    "#GPS data\n",
    "host_pos = np.array((1,2))"
   ]
  },
  {
   "cell_type": "code",
   "execution_count": 5,
   "id": "c561eb76",
   "metadata": {},
   "outputs": [],
   "source": [
    "#Prediction model equations\n",
    "delta_x_k = np.array([0,0,0]).reshape(3,1)\n",
    "dt = 0\n",
    "R = np.zeros((3,3))\n",
    "\n",
    "F = np.identity(9)\n",
    "F[:3, 3:6] = np.identity(3)\n",
    "F[3:6, 6:] = -np.dot(R,a_k_1)*dt\n",
    "\n",
    "L = np.array([[0, 0],\n",
    "             [1, 0],\n",
    "             [0, 1]])\n"
   ]
  },
  {
   "cell_type": "code",
   "execution_count": 7,
   "id": "3d9c8e85",
   "metadata": {},
   "outputs": [],
   "source": [
    "#Measurement model equations\n",
    "y = np.array([0, 0, 0]).reshape(3,1)\n",
    "H = np.array([1, 0, 0])\n",
    "u = np.array([0, 0, 0]).reshape(3,1)"
   ]
  },
  {
   "cell_type": "code",
   "execution_count": null,
   "id": "ec771388",
   "metadata": {},
   "outputs": [],
   "source": [
    "#x_est = initialize with ground trouth\n",
    "x_est = np.array([0,0,0]).reshape(3,1)\n",
    "while True:\n",
    "    \n",
    "    delta_x_pred = x_est\n",
    "    \n",
    "    \n",
    "    \n",
    "    #propogate uncertanity\n",
    "    P_k = (np.dot(F_k_1, P_k_1)).dot(F_k_1.T)  + (np.dot(L_k_1, Q_k_1)).dot(K_k_1.T)"
   ]
  },
  {
   "cell_type": "code",
   "execution_count": null,
   "id": "9adfabe3",
   "metadata": {},
   "outputs": [],
   "source": []
  }
 ],
 "metadata": {
  "kernelspec": {
   "display_name": "Python 3 (ipykernel)",
   "language": "python",
   "name": "python3"
  },
  "language_info": {
   "codemirror_mode": {
    "name": "ipython",
    "version": 3
   },
   "file_extension": ".py",
   "mimetype": "text/x-python",
   "name": "python",
   "nbconvert_exporter": "python",
   "pygments_lexer": "ipython3",
   "version": "3.7.9"
  }
 },
 "nbformat": 4,
 "nbformat_minor": 5
}
