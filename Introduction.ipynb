{
 "cells": [
  {
   "cell_type": "markdown",
   "id": "4ad91f76",
   "metadata": {},
   "source": [
    "\n",
    "\n",
    "\n",
    "# State equations:\n",
    "$ p_k = p_{k-1} + dt +a_{k-1} * dt^2/2 $  \n",
    "$ v_k = v_{k-1} + a_{k-1}*dt $  \n",
    "$ q_k = q_{k-1} \\otimes q(\\omega_{k-1},dt) $  \n",
    "\n",
    "here, $p_k$ represents the postion of the vehicle in the 3D space  \n",
    "$v_k$ represents the velocity of the vehicle in the 3D space  \n",
    "$q_k$ represents the orientation of the vehicle in form of a quaternion  \n"
   ]
  },
  {
   "cell_type": "code",
   "execution_count": null,
   "id": "de446715",
   "metadata": {},
   "outputs": [],
   "source": []
  }
 ],
 "metadata": {
  "kernelspec": {
   "display_name": "Python 3 (ipykernel)",
   "language": "python",
   "name": "python3"
  },
  "language_info": {
   "codemirror_mode": {
    "name": "ipython",
    "version": 3
   },
   "file_extension": ".py",
   "mimetype": "text/x-python",
   "name": "python",
   "nbconvert_exporter": "python",
   "pygments_lexer": "ipython3",
   "version": "3.7.8"
  }
 },
 "nbformat": 4,
 "nbformat_minor": 5
}
